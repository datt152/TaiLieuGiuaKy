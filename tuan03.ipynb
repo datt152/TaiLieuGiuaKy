{
 "cells": [
  {
   "cell_type": "code",
   "execution_count": 14,
   "metadata": {},
   "outputs": [
    {
     "data": {
      "text/html": [
       "<div>\n",
       "<style scoped>\n",
       "    .dataframe tbody tr th:only-of-type {\n",
       "        vertical-align: middle;\n",
       "    }\n",
       "\n",
       "    .dataframe tbody tr th {\n",
       "        vertical-align: top;\n",
       "    }\n",
       "\n",
       "    .dataframe thead th {\n",
       "        text-align: right;\n",
       "    }\n",
       "</style>\n",
       "<table border=\"1\" class=\"dataframe\">\n",
       "  <thead>\n",
       "    <tr style=\"text-align: right;\">\n",
       "      <th></th>\n",
       "      <th>MSSV</th>\n",
       "      <th>GT</th>\n",
       "      <th>DT</th>\n",
       "      <th>KV</th>\n",
       "      <th>M1</th>\n",
       "      <th>M2</th>\n",
       "      <th>M3</th>\n",
       "      <th>KT</th>\n",
       "      <th>NGAYTHI</th>\n",
       "      <th>DINHHUONGNGHENGHIEP</th>\n",
       "    </tr>\n",
       "  </thead>\n",
       "  <tbody>\n",
       "    <tr>\n",
       "      <th>0</th>\n",
       "      <td>SV001</td>\n",
       "      <td>F</td>\n",
       "      <td>NaN</td>\n",
       "      <td>2NT</td>\n",
       "      <td>3.25</td>\n",
       "      <td>3.25</td>\n",
       "      <td>4.50</td>\n",
       "      <td>A1</td>\n",
       "      <td>12/7/2018</td>\n",
       "      <td>No</td>\n",
       "    </tr>\n",
       "    <tr>\n",
       "      <th>1</th>\n",
       "      <td>SV002</td>\n",
       "      <td>M</td>\n",
       "      <td>NaN</td>\n",
       "      <td>1</td>\n",
       "      <td>6.00</td>\n",
       "      <td>4.00</td>\n",
       "      <td>3.50</td>\n",
       "      <td>C</td>\n",
       "      <td>12/7/2018</td>\n",
       "      <td>Yes</td>\n",
       "    </tr>\n",
       "    <tr>\n",
       "      <th>2</th>\n",
       "      <td>SV003</td>\n",
       "      <td>M</td>\n",
       "      <td>NaN</td>\n",
       "      <td>1</td>\n",
       "      <td>5.00</td>\n",
       "      <td>6.75</td>\n",
       "      <td>4.00</td>\n",
       "      <td>C</td>\n",
       "      <td>12/7/2018</td>\n",
       "      <td>No</td>\n",
       "    </tr>\n",
       "    <tr>\n",
       "      <th>3</th>\n",
       "      <td>SV004</td>\n",
       "      <td>M</td>\n",
       "      <td>NaN</td>\n",
       "      <td>1</td>\n",
       "      <td>4.25</td>\n",
       "      <td>4.25</td>\n",
       "      <td>5.25</td>\n",
       "      <td>D1</td>\n",
       "      <td>12/7/2018</td>\n",
       "      <td>No</td>\n",
       "    </tr>\n",
       "    <tr>\n",
       "      <th>4</th>\n",
       "      <td>SV005</td>\n",
       "      <td>M</td>\n",
       "      <td>NaN</td>\n",
       "      <td>2NT</td>\n",
       "      <td>4.25</td>\n",
       "      <td>4.50</td>\n",
       "      <td>5.00</td>\n",
       "      <td>A</td>\n",
       "      <td>12/7/2018</td>\n",
       "      <td>No</td>\n",
       "    </tr>\n",
       "    <tr>\n",
       "      <th>...</th>\n",
       "      <td>...</td>\n",
       "      <td>...</td>\n",
       "      <td>...</td>\n",
       "      <td>...</td>\n",
       "      <td>...</td>\n",
       "      <td>...</td>\n",
       "      <td>...</td>\n",
       "      <td>...</td>\n",
       "      <td>...</td>\n",
       "      <td>...</td>\n",
       "    </tr>\n",
       "    <tr>\n",
       "      <th>95</th>\n",
       "      <td>SV0096</td>\n",
       "      <td>F</td>\n",
       "      <td>NaN</td>\n",
       "      <td>1</td>\n",
       "      <td>5.25</td>\n",
       "      <td>1.50</td>\n",
       "      <td>6.25</td>\n",
       "      <td>C</td>\n",
       "      <td>7/20/2022</td>\n",
       "      <td>Yes</td>\n",
       "    </tr>\n",
       "    <tr>\n",
       "      <th>96</th>\n",
       "      <td>SV0097</td>\n",
       "      <td>F</td>\n",
       "      <td>NaN</td>\n",
       "      <td>1</td>\n",
       "      <td>5.25</td>\n",
       "      <td>3.75</td>\n",
       "      <td>4.75</td>\n",
       "      <td>C</td>\n",
       "      <td>7/20/2022</td>\n",
       "      <td>No</td>\n",
       "    </tr>\n",
       "    <tr>\n",
       "      <th>97</th>\n",
       "      <td>SV0098</td>\n",
       "      <td>M</td>\n",
       "      <td>NaN</td>\n",
       "      <td>2NT</td>\n",
       "      <td>7.00</td>\n",
       "      <td>8.00</td>\n",
       "      <td>4.00</td>\n",
       "      <td>C</td>\n",
       "      <td>7/20/2022</td>\n",
       "      <td>Yes</td>\n",
       "    </tr>\n",
       "    <tr>\n",
       "      <th>98</th>\n",
       "      <td>SV0099</td>\n",
       "      <td>M</td>\n",
       "      <td>NaN</td>\n",
       "      <td>1</td>\n",
       "      <td>5.00</td>\n",
       "      <td>3.50</td>\n",
       "      <td>5.50</td>\n",
       "      <td>C</td>\n",
       "      <td>7/20/2022</td>\n",
       "      <td>No</td>\n",
       "    </tr>\n",
       "    <tr>\n",
       "      <th>99</th>\n",
       "      <td>SV00100</td>\n",
       "      <td>M</td>\n",
       "      <td>NaN</td>\n",
       "      <td>2NT</td>\n",
       "      <td>5.25</td>\n",
       "      <td>2.50</td>\n",
       "      <td>4.25</td>\n",
       "      <td>C</td>\n",
       "      <td>7/20/2022</td>\n",
       "      <td>Yes</td>\n",
       "    </tr>\n",
       "  </tbody>\n",
       "</table>\n",
       "<p>100 rows × 10 columns</p>\n",
       "</div>"
      ],
      "text/plain": [
       "       MSSV GT  DT   KV    M1    M2    M3  KT    NGAYTHI DINHHUONGNGHENGHIEP\n",
       "0     SV001  F NaN  2NT  3.25  3.25  4.50  A1  12/7/2018                  No\n",
       "1     SV002  M NaN    1  6.00  4.00  3.50   C  12/7/2018                 Yes\n",
       "2     SV003  M NaN    1  5.00  6.75  4.00   C  12/7/2018                  No\n",
       "3     SV004  M NaN    1  4.25  4.25  5.25  D1  12/7/2018                  No\n",
       "4     SV005  M NaN  2NT  4.25  4.50  5.00   A  12/7/2018                  No\n",
       "..      ... ..  ..  ...   ...   ...   ...  ..        ...                 ...\n",
       "95   SV0096  F NaN    1  5.25  1.50  6.25   C  7/20/2022                 Yes\n",
       "96   SV0097  F NaN    1  5.25  3.75  4.75   C  7/20/2022                  No\n",
       "97   SV0098  M NaN  2NT  7.00  8.00  4.00   C  7/20/2022                 Yes\n",
       "98   SV0099  M NaN    1  5.00  3.50  5.50   C  7/20/2022                  No\n",
       "99  SV00100  M NaN  2NT  5.25  2.50  4.25   C  7/20/2022                 Yes\n",
       "\n",
       "[100 rows x 10 columns]"
      ]
     },
     "execution_count": 14,
     "metadata": {},
     "output_type": "execute_result"
    }
   ],
   "source": [
    "import pandas as pd\n",
    "df = pd.read_csv('dulieuxettuyendaihoc.csv',header=0,delimiter=',',encoding='utf-8')\n",
    "df"
   ]
  },
  {
   "cell_type": "code",
   "execution_count": 15,
   "metadata": {},
   "outputs": [
    {
     "name": "stdout",
     "output_type": "stream",
     "text": [
      "1.0\n",
      "7.0\n",
      "\n",
      "3.74\n",
      "3.625\n",
      "\n",
      "0    A\n",
      "Name: KT, dtype: object\n",
      "\n",
      "5.5\n",
      "\n",
      "5.300000000000004\n",
      "\n"
     ]
    }
   ],
   "source": [
    "print(f'{df[\"M1\"].min()}\\n{df[\"M1\"].max()}\\n')\n",
    "print(f'{df[\"M1\"].mean()}\\n{df[\"M1\"].median()}\\n')\n",
    "print(f'{df[\"KT\"].mode()}\\n')\n",
    "#phân vị thứ 9 có tỉ lệ là 0.9\n",
    "print(f'{df[\"M2\"].quantile(0.9)}\\n')\n",
    "print(f'{df[\"M1\"].quantile(0.9)}\\n')"
   ]
  },
  {
   "cell_type": "code",
   "execution_count": 16,
   "metadata": {},
   "outputs": [
    {
     "data": {
      "text/plain": [
       "np.float64(6.0)"
      ]
     },
     "execution_count": 16,
     "metadata": {},
     "output_type": "execute_result"
    }
   ],
   "source": [
    "range= df['M1'].max() - df['M1'].min()\n",
    "range\n",
    "#cac đại lượng do lường biến động"
   ]
  },
  {
   "cell_type": "code",
   "execution_count": 17,
   "metadata": {},
   "outputs": [
    {
     "data": {
      "text/plain": [
       "np.float64(2.25)"
      ]
     },
     "execution_count": 17,
     "metadata": {},
     "output_type": "execute_result"
    }
   ],
   "source": [
    "df['M1'].quantile(0.75) - df['M1'].quantile(0.25)\n",
    "#độ lớn IQR của M2 là bao nhiu"
   ]
  },
  {
   "cell_type": "code",
   "execution_count": 18,
   "metadata": {},
   "outputs": [
    {
     "ename": "NameError",
     "evalue": "name 'np' is not defined",
     "output_type": "error",
     "traceback": [
      "\u001b[1;31m---------------------------------------------------------------------------\u001b[0m",
      "\u001b[1;31mNameError\u001b[0m                                 Traceback (most recent call last)",
      "Cell \u001b[1;32mIn[18], line 1\u001b[0m\n\u001b[1;32m----> 1\u001b[0m \u001b[43mnp\u001b[49m\u001b[38;5;241m.\u001b[39mmean(np\u001b[38;5;241m.\u001b[39mabs(df[\u001b[38;5;124m'\u001b[39m\u001b[38;5;124mM1\u001b[39m\u001b[38;5;124m'\u001b[39m] \u001b[38;5;241m-\u001b[39m np\u001b[38;5;241m.\u001b[39mmean(df[\u001b[38;5;124m'\u001b[39m\u001b[38;5;124mM1\u001b[39m\u001b[38;5;124m'\u001b[39m])))\n",
      "\u001b[1;31mNameError\u001b[0m: name 'np' is not defined"
     ]
    }
   ],
   "source": [
    "np.mean(np.abs(df['M1'] - np.mean(df['M1'])))"
   ]
  },
  {
   "cell_type": "code",
   "execution_count": null,
   "metadata": {},
   "outputs": [],
   "source": [
    "df[['M1','M2']].max() - df[['M1','M2']].min()"
   ]
  },
  {
   "cell_type": "code",
   "execution_count": null,
   "metadata": {},
   "outputs": [],
   "source": []
  },
  {
   "cell_type": "code",
   "execution_count": null,
   "metadata": {},
   "outputs": [],
   "source": [
    "df['M1'].var()"
   ]
  },
  {
   "cell_type": "code",
   "execution_count": null,
   "metadata": {},
   "outputs": [],
   "source": [
    "df['M1'].std()"
   ]
  },
  {
   "cell_type": "code",
   "execution_count": null,
   "metadata": {},
   "outputs": [],
   "source": [
    "print(df[['M1','M2']].mean())\n",
    "print(df[['M1','M2']].std())"
   ]
  },
  {
   "cell_type": "code",
   "execution_count": null,
   "metadata": {},
   "outputs": [],
   "source": [
    "df[['M1','M2']].std()/df[['M1','M2']].mean()"
   ]
  },
  {
   "cell_type": "code",
   "execution_count": null,
   "metadata": {},
   "outputs": [],
   "source": [
    "df['M1'].describe()"
   ]
  },
  {
   "cell_type": "code",
   "execution_count": null,
   "metadata": {},
   "outputs": [],
   "source": [
    "df[['M1','M2','M3']].describe()"
   ]
  },
  {
   "cell_type": "code",
   "execution_count": null,
   "metadata": {},
   "outputs": [],
   "source": [
    "cv = df[['M1','M2','M3']].std() / df[['M1','M2','M3']].mean()\n",
    "list(cv)"
   ]
  },
  {
   "cell_type": "code",
   "execution_count": null,
   "metadata": {},
   "outputs": [],
   "source": [
    "df.groupby('GT')['M1'].describe()"
   ]
  },
  {
   "cell_type": "code",
   "execution_count": null,
   "metadata": {},
   "outputs": [],
   "source": [
    "\n",
    "df.groupby('GT')['M2'].std()/df.groupby('GT')['M2'].mean()\n"
   ]
  },
  {
   "cell_type": "code",
   "execution_count": null,
   "metadata": {},
   "outputs": [],
   "source": [
    "df['M1'].hist()\n",
    "plt.show()"
   ]
  },
  {
   "cell_type": "code",
   "execution_count": null,
   "metadata": {},
   "outputs": [],
   "source": [
    "df['M1'].hist(bins=14)\n",
    "plt.show()"
   ]
  },
  {
   "cell_type": "code",
   "execution_count": null,
   "metadata": {},
   "outputs": [],
   "source": [
    "sns.displot(df, x='M1', kind='kde')\n",
    "plt.show()\n"
   ]
  },
  {
   "cell_type": "code",
   "execution_count": null,
   "metadata": {},
   "outputs": [],
   "source": [
    "sns.displot(data = df[['M1','M2','M3']], kind='kde')\n",
    "plt.show()"
   ]
  },
  {
   "cell_type": "code",
   "execution_count": null,
   "metadata": {},
   "outputs": [],
   "source": [
    "sns.displot(df, x='M1', hue='GT', kind='kde')\n",
    "plt.show()"
   ]
  },
  {
   "cell_type": "code",
   "execution_count": null,
   "metadata": {},
   "outputs": [],
   "source": [
    "df['M1'].skew()"
   ]
  },
  {
   "cell_type": "code",
   "execution_count": null,
   "metadata": {},
   "outputs": [
    {
     "ename": "",
     "evalue": "",
     "output_type": "error",
     "traceback": [
      "\u001b[1;31mRunning cells with 'Python 3.12.5' requires the ipykernel package.\n",
      "\u001b[1;31mRun the following command to install 'ipykernel' into the Python environment. \n",
      "\u001b[1;31mCommand: 'c:/Users/Admin/AppData/Local/Programs/Python/Python312/python.exe -m pip install ipykernel -U --user --force-reinstall'"
     ]
    }
   ],
   "source": [
    "df[['M1','M2','M3']].skew()"
   ]
  }
 ],
 "metadata": {
  "kernelspec": {
   "display_name": "Python 3",
   "language": "python",
   "name": "python3"
  },
  "language_info": {
   "codemirror_mode": {
    "name": "ipython",
    "version": 3
   },
   "file_extension": ".py",
   "mimetype": "text/x-python",
   "name": "python",
   "nbconvert_exporter": "python",
   "pygments_lexer": "ipython3",
   "version": "3.12.5"
  }
 },
 "nbformat": 4,
 "nbformat_minor": 2
}
