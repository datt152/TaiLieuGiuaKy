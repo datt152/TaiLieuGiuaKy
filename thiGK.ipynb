{
 "cells": [
  {
   "cell_type": "code",
   "execution_count": 2,
   "metadata": {},
   "outputs": [
    {
     "name": "stderr",
     "output_type": "stream",
     "text": [
      "C:\\Users\\ADMIN\\AppData\\Local\\Temp\\ipykernel_16848\\1652345168.py:10: DeprecationWarning: Please import `pearsonr` from the `scipy.stats` namespace; the `scipy.stats.stats` namespace is deprecated and will be removed in SciPy 2.0.0.\n",
      "  from scipy.stats.stats import pearsonr\n"
     ]
    }
   ],
   "source": [
    "import pandas as pd\n",
    "import seaborn as sns\n",
    "import matplotlib.pyplot as plt\n",
    "import numpy as np\n",
    "import seaborn as sns\n",
    "import scipy.stats as stats\n",
    "from statsmodels.stats.weightstats import ztest as ztest\n",
    "import statsmodels.api as sm\n",
    "from statsmodels.formula.api import ols\n",
    "from scipy.stats.stats import pearsonr\n",
    "from scipy.stats import chi2_contingency\n",
    "import statsmodels.api as sm\n",
    "from statsmodels.formula.api import ols\n",
    "from sklearn import preprocessing\n",
    "from sklearn.preprocessing import LabelBinarizer\n",
    "from sklearn.preprocessing import OneHotEncoder\n",
    "from sklearn.preprocessing import MaxAbsScaler\n",
    "from sklearn.preprocessing import MinMaxScaler\n",
    "from sklearn.preprocessing import StandardScaler"
   ]
  },
  {
   "cell_type": "code",
   "execution_count": 5,
   "metadata": {},
   "outputs": [
    {
     "data": {
      "text/html": [
       "<div>\n",
       "<style scoped>\n",
       "    .dataframe tbody tr th:only-of-type {\n",
       "        vertical-align: middle;\n",
       "    }\n",
       "\n",
       "    .dataframe tbody tr th {\n",
       "        vertical-align: top;\n",
       "    }\n",
       "\n",
       "    .dataframe thead th {\n",
       "        text-align: right;\n",
       "    }\n",
       "</style>\n",
       "<table border=\"1\" class=\"dataframe\">\n",
       "  <thead>\n",
       "    <tr style=\"text-align: right;\">\n",
       "      <th></th>\n",
       "      <th>TimeToPlay</th>\n",
       "      <th>TimeToStudy</th>\n",
       "      <th>ProfessionalScore</th>\n",
       "      <th>InterviewScore</th>\n",
       "      <th>Sexuality</th>\n",
       "      <th>ExpectedSalary</th>\n",
       "      <th>SocialNetworkingTimeUse</th>\n",
       "      <th>Result</th>\n",
       "    </tr>\n",
       "  </thead>\n",
       "  <tbody>\n",
       "    <tr>\n",
       "      <th>0</th>\n",
       "      <td>0.1</td>\n",
       "      <td>4.4</td>\n",
       "      <td>2.5</td>\n",
       "      <td>F</td>\n",
       "      <td>T</td>\n",
       "      <td>249.6</td>\n",
       "      <td>Much</td>\n",
       "      <td>NO</td>\n",
       "    </tr>\n",
       "    <tr>\n",
       "      <th>1</th>\n",
       "      <td>4.1</td>\n",
       "      <td>5.7</td>\n",
       "      <td>3.7</td>\n",
       "      <td>D</td>\n",
       "      <td>L</td>\n",
       "      <td>114.6</td>\n",
       "      <td>Pretty</td>\n",
       "      <td>YES</td>\n",
       "    </tr>\n",
       "    <tr>\n",
       "      <th>2</th>\n",
       "      <td>7.3</td>\n",
       "      <td>0.9</td>\n",
       "      <td>2.7</td>\n",
       "      <td>D</td>\n",
       "      <td>T</td>\n",
       "      <td>862.0</td>\n",
       "      <td>Almost</td>\n",
       "      <td>NO</td>\n",
       "    </tr>\n",
       "    <tr>\n",
       "      <th>3</th>\n",
       "      <td>6.2</td>\n",
       "      <td>8.8</td>\n",
       "      <td>2.7</td>\n",
       "      <td>D</td>\n",
       "      <td>T</td>\n",
       "      <td>147.2</td>\n",
       "      <td>Almost</td>\n",
       "      <td>YES</td>\n",
       "    </tr>\n",
       "    <tr>\n",
       "      <th>4</th>\n",
       "      <td>5.0</td>\n",
       "      <td>3.1</td>\n",
       "      <td>0.2</td>\n",
       "      <td>D</td>\n",
       "      <td>Q</td>\n",
       "      <td>653.4</td>\n",
       "      <td>Pretty</td>\n",
       "      <td>NO</td>\n",
       "    </tr>\n",
       "  </tbody>\n",
       "</table>\n",
       "</div>"
      ],
      "text/plain": [
       "   TimeToPlay  TimeToStudy  ProfessionalScore InterviewScore Sexuality  \\\n",
       "0         0.1          4.4                2.5              F         T   \n",
       "1         4.1          5.7                3.7              D         L   \n",
       "2         7.3          0.9                2.7              D         T   \n",
       "3         6.2          8.8                2.7              D         T   \n",
       "4         5.0          3.1                0.2              D         Q   \n",
       "\n",
       "   ExpectedSalary SocialNetworkingTimeUse Result  \n",
       "0           249.6                    Much     NO  \n",
       "1           114.6                  Pretty    YES  \n",
       "2           862.0                  Almost     NO  \n",
       "3           147.2                  Almost    YES  \n",
       "4           653.4                  Pretty     NO  "
      ]
     },
     "execution_count": 5,
     "metadata": {},
     "output_type": "execute_result"
    }
   ],
   "source": [
    "df = pd.read_csv(\"data-midterm.csv\")\n",
    "df.head()"
   ]
  },
  {
   "cell_type": "markdown",
   "metadata": {},
   "source": [
    "1"
   ]
  },
  {
   "cell_type": "code",
   "execution_count": 47,
   "metadata": {},
   "outputs": [
    {
     "name": "stdout",
     "output_type": "stream",
     "text": [
      "                            OLS Regression Results                            \n",
      "==============================================================================\n",
      "Dep. Variable:      ProfessionalScore   R-squared:                       0.003\n",
      "Model:                            OLS   Adj. R-squared:                 -0.010\n",
      "Method:                 Least Squares   F-statistic:                    0.2454\n",
      "Date:                Wed, 09 Oct 2024   Prob (F-statistic):              0.622\n",
      "Time:                        19:13:48   Log-Likelihood:                -122.86\n",
      "No. Observations:                  81   AIC:                             249.7\n",
      "Df Residuals:                      79   BIC:                             254.5\n",
      "Df Model:                           1                                         \n",
      "Covariance Type:            nonrobust                                         \n",
      "===============================================================================\n",
      "                  coef    std err          t      P>|t|      [0.025      0.975]\n",
      "-------------------------------------------------------------------------------\n",
      "const           1.6969      0.257      6.591      0.000       1.184       2.209\n",
      "TimeToStudy     0.0213      0.043      0.495      0.622      -0.064       0.107\n",
      "==============================================================================\n",
      "Omnibus:                       14.895   Durbin-Watson:                   1.857\n",
      "Prob(Omnibus):                  0.001   Jarque-Bera (JB):                4.138\n",
      "Skew:                           0.122   Prob(JB):                        0.126\n",
      "Kurtosis:                       1.920   Cond. No.                         12.7\n",
      "==============================================================================\n",
      "\n",
      "Notes:\n",
      "[1] Standard Errors assume that the covariance matrix of the errors is correctly specified.\n"
     ]
    },
    {
     "data": {
      "image/png": "[encoded data removed]",
      "text/plain": [
       "<Figure size 800x600 with 1 Axes>"
      ]
     },
     "metadata": {},
     "output_type": "display_data"
    }
   ],
   "source": [
    " #Lọc dữ liệu: Xu hướng giới tính là \"G\" và kết quả phỏng vấn là \"NO\"\n",
    "df_filtered = df[(df['Sexuality'] == 'G') & (df['Result'] == 'NO')]\n",
    "\n",
    "if df_filtered.empty:\n",
    "    print(\"Không có dữ liệu phù hợp với điều kiện 'Sexuality = G' và 'Result = NO'.\")\n",
    "else:\n",
    "    X = df_filtered[['TimeToStudy']]\n",
    "    y = df_filtered['ProfessionalScore']\n",
    "\n",
    "    X = sm.add_constant(X)\n",
    "    model = sm.OLS(y, X).fit()\n",
    "\n",
    "    print(model.summary())\n",
    "\n",
    "    plt.figure(figsize=(8, 6))\n",
    "    sns.regplot(x='TimeToStudy', y='ProfessionalScore', data=df_filtered)\n",
    "    plt.title('Hồi quy tuyến tính giữa TimeToStudy và ProfessionalScore')\n",
    "    plt.show()"
   ]
  },
  {
   "cell_type": "markdown",
   "metadata": {},
   "source": [
    "2"
   ]
  },
  {
   "cell_type": "code",
   "execution_count": 46,
   "metadata": {},
   "outputs": [
    {
     "name": "stdout",
     "output_type": "stream",
     "text": [
      "25% số lượng sinh viên có điểm đánh giá năng lực cao hơn: 2.9\n"
     ]
    },
    {
     "data": {
      "text/plain": [
       "count    1000.000000\n",
       "mean        1.939700\n",
       "std         1.142383\n",
       "min         0.000000\n",
       "25%         1.000000\n",
       "50%         2.000000\n",
       "75%         2.900000\n",
       "max         4.000000\n",
       "Name: ProfessionalScore, dtype: float64"
      ]
     },
     "execution_count": 46,
     "metadata": {},
     "output_type": "execute_result"
    }
   ],
   "source": [
    "\n",
    "desc = df['ProfessionalScore'].describe()\n",
    "\n",
    "Q3 = desc['75%']\n",
    "\n",
    "print(f\"25% số lượng sinh viên có điểm đánh giá năng lực cao hơn: {Q3}\")\n",
    "\n",
    "df['ProfessionalScore'].quantile(.25)\n",
    "desc"
   ]
  },
  {
   "cell_type": "markdown",
   "metadata": {},
   "source": [
    "3"
   ]
  },
  {
   "cell_type": "code",
   "execution_count": 9,
   "metadata": {},
   "outputs": [
    {
     "name": "stdout",
     "output_type": "stream",
     "text": [
      "Bảng chéo (Contingency Table):\n",
      "Result      NO  YES\n",
      "Sexuality          \n",
      "B           64   69\n",
      "G           81   66\n",
      "L          106   96\n",
      "Q          210  203\n",
      "T           64   41\n",
      "\n",
      "Chi-squared statistic: 4.882577424112614\n",
      "p-value: 0.29955935965316594\n",
      "Không có mối phụ thuộc giữa kết quả phỏng vấn và xu hướng tính dục (không bác bỏ giả thuyết H0).\n"
     ]
    }
   ],
   "source": [
    "contingency_table = pd.crosstab(df['Sexuality'], df['Result'])\n",
    "\n",
    "chi2_stat, p_val, dof, expected = chi2_contingency(contingency_table)\n",
    "\n",
    "print(\"Bảng chéo (Contingency Table):\")\n",
    "print(contingency_table)\n",
    "print(f\"\\nChi-squared statistic: {chi2_stat}\")\n",
    "print(f\"p-value: {p_val}\")\n",
    "\n",
    "alpha = 0.05\n",
    "if p_val < alpha:\n",
    "    print(\"Có mối phụ thuộc giữa kết quả phỏng vấn và xu hướng tính dục (bác bỏ giả thuyết H0).\")\n",
    "else:\n",
    "    print(\"Không có mối phụ thuộc giữa kết quả phỏng vấn và xu hướng tính dục (không bác bỏ giả thuyết H0).\")"
   ]
  },
  {
   "cell_type": "markdown",
   "metadata": {},
   "source": [
    "4"
   ]
  },
  {
   "cell_type": "code",
   "execution_count": 10,
   "metadata": {},
   "outputs": [
    {
     "name": "stdout",
     "output_type": "stream",
     "text": [
      "                            OLS Regression Results                            \n",
      "==============================================================================\n",
      "Dep. Variable:      ProfessionalScore   R-squared:                       0.003\n",
      "Model:                            OLS   Adj. R-squared:                  0.001\n",
      "Method:                 Least Squares   F-statistic:                     1.253\n",
      "Date:                Wed, 09 Oct 2024   Prob (F-statistic):              0.286\n",
      "Time:                        18:31:46   Log-Likelihood:                -1550.3\n",
      "No. Observations:                1000   AIC:                             3107.\n",
      "Df Residuals:                     997   BIC:                             3121.\n",
      "Df Model:                           2                                         \n",
      "Covariance Type:            nonrobust                                         \n",
      "===============================================================================\n",
      "                  coef    std err          t      P>|t|      [0.025      0.975]\n",
      "-------------------------------------------------------------------------------\n",
      "const           1.8134      0.096     18.860      0.000       1.625       2.002\n",
      "TimeToPlay      0.0187      0.013      1.490      0.137      -0.006       0.043\n",
      "TimeToStudy     0.0062      0.013      0.488      0.626      -0.019       0.031\n",
      "==============================================================================\n",
      "Omnibus:                      473.605   Durbin-Watson:                   1.917\n",
      "Prob(Omnibus):                  0.000   Jarque-Bera (JB):               54.357\n",
      "Skew:                           0.044   Prob(JB):                     1.57e-12\n",
      "Kurtosis:                       1.861   Cond. No.                         20.9\n",
      "==============================================================================\n",
      "\n",
      "Notes:\n",
      "[1] Standard Errors assume that the covariance matrix of the errors is correctly specified.\n",
      "Điểm đánh giá năng lực được dự đoán: 1.975221917763235\n"
     ]
    }
   ],
   "source": [
    "X = df[['TimeToPlay', 'TimeToStudy']]\n",
    "y = df['ProfessionalScore']\n",
    "\n",
    "X_with_constant = sm.add_constant(X)\n",
    "\n",
    "model = sm.OLS(y, X_with_constant).fit()\n",
    "\n",
    "print(model.summary())\n",
    "\n",
    "new_data = pd.DataFrame({'const': 1, 'TimeToPlay': [7.0], 'TimeToStudy': [5.0]})\n",
    "predicted_score = model.predict(new_data)\n",
    "\n",
    "print(f\"Điểm đánh giá năng lực được dự đoán: {predicted_score[0]}\")"
   ]
  },
  {
   "cell_type": "markdown",
   "metadata": {},
   "source": [
    "5"
   ]
  },
  {
   "cell_type": "code",
   "execution_count": null,
   "metadata": {},
   "outputs": [],
   "source": []
  },
  {
   "cell_type": "markdown",
   "metadata": {},
   "source": [
    "6"
   ]
  },
  {
   "cell_type": "code",
   "execution_count": null,
   "metadata": {},
   "outputs": [],
   "source": []
  },
  {
   "cell_type": "markdown",
   "metadata": {},
   "source": [
    "7"
   ]
  },
  {
   "cell_type": "code",
   "execution_count": 13,
   "metadata": {},
   "outputs": [
    {
     "name": "stdout",
     "output_type": "stream",
     "text": [
      "t-statistic: -1.339502822526778\n",
      "p-value: 0.20174747333359874\n",
      "Không có sự khác biệt đáng kể giữa trung bình TimeToPlay và TimeToStudy (không bác bỏ H0).\n"
     ]
    }
   ],
   "source": [
    "from scipy.stats import ttest_rel\n",
    "df_filtered = df[(df['Sexuality'] == 'T') & (df['InterviewScore'] == 'B')]\n",
    "\n",
    "if df_filtered.empty:\n",
    "    print(\"Không có dữ liệu phù hợp với điều kiện 'Sexuality = T' và 'InterviewScore = B'.\")\n",
    "else:\n",
    "    t_stat, p_value = ttest_rel(df_filtered['TimeToPlay'], df_filtered['TimeToStudy'])\n",
    "\n",
    "    print(f\"t-statistic: {t_stat}\")\n",
    "    print(f\"p-value: {p_value}\")\n",
    "\n",
    "    alpha = 0.05\n",
    "    if p_value < alpha:\n",
    "        print(\"Có sự khác biệt đáng kể giữa trung bình TimeToPlay và TimeToStudy (bác bỏ H0).\")\n",
    "    else:\n",
    "        print(\"Không có sự khác biệt đáng kể giữa trung bình TimeToPlay và TimeToStudy (không bác bỏ H0).\")"
   ]
  },
  {
   "cell_type": "code",
   "execution_count": 17,
   "metadata": {},
   "outputs": [
    {
     "data": {
      "text/plain": [
       "(15, 8)"
      ]
     },
     "execution_count": 17,
     "metadata": {},
     "output_type": "execute_result"
    }
   ],
   "source": [
    "df_filtered.shape"
   ]
  },
  {
   "cell_type": "code",
   "execution_count": 18,
   "metadata": {},
   "outputs": [
    {
     "data": {
      "text/plain": [
       "TtestResult(statistic=np.float64(-0.8066329122653516), pvalue=np.float64(0.42667670534192237), df=np.float64(28.0))"
      ]
     },
     "execution_count": 18,
     "metadata": {},
     "output_type": "execute_result"
    }
   ],
   "source": [
    "stats.ttest_ind(df_filtered['TimeToPlay'], df_filtered['TimeToStudy'], equal_var=True)"
   ]
  },
  {
   "cell_type": "markdown",
   "metadata": {},
   "source": [
    "8"
   ]
  },
  {
   "cell_type": "code",
   "execution_count": 20,
   "metadata": {},
   "outputs": [
    {
     "name": "stdout",
     "output_type": "stream",
     "text": [
      "Giá trị ProfessionalScore = 2.7 thuộc khoảng: D\n"
     ]
    },
    {
     "data": {
      "text/html": [
       "<div>\n",
       "<style scoped>\n",
       "    .dataframe tbody tr th:only-of-type {\n",
       "        vertical-align: middle;\n",
       "    }\n",
       "\n",
       "    .dataframe tbody tr th {\n",
       "        vertical-align: top;\n",
       "    }\n",
       "\n",
       "    .dataframe thead th {\n",
       "        text-align: right;\n",
       "    }\n",
       "</style>\n",
       "<table border=\"1\" class=\"dataframe\">\n",
       "  <thead>\n",
       "    <tr style=\"text-align: right;\">\n",
       "      <th></th>\n",
       "      <th>TimeToPlay</th>\n",
       "      <th>TimeToStudy</th>\n",
       "      <th>ProfessionalScore</th>\n",
       "      <th>InterviewScore</th>\n",
       "      <th>Sexuality</th>\n",
       "      <th>ExpectedSalary</th>\n",
       "      <th>SocialNetworkingTimeUse</th>\n",
       "      <th>Result</th>\n",
       "      <th>Score_Bin</th>\n",
       "    </tr>\n",
       "  </thead>\n",
       "  <tbody>\n",
       "    <tr>\n",
       "      <th>0</th>\n",
       "      <td>0.1</td>\n",
       "      <td>4.4</td>\n",
       "      <td>2.5</td>\n",
       "      <td>F</td>\n",
       "      <td>T</td>\n",
       "      <td>249.6</td>\n",
       "      <td>Much</td>\n",
       "      <td>NO</td>\n",
       "      <td>D</td>\n",
       "    </tr>\n",
       "    <tr>\n",
       "      <th>1</th>\n",
       "      <td>4.1</td>\n",
       "      <td>5.7</td>\n",
       "      <td>3.7</td>\n",
       "      <td>D</td>\n",
       "      <td>L</td>\n",
       "      <td>114.6</td>\n",
       "      <td>Pretty</td>\n",
       "      <td>YES</td>\n",
       "      <td>E</td>\n",
       "    </tr>\n",
       "    <tr>\n",
       "      <th>2</th>\n",
       "      <td>7.3</td>\n",
       "      <td>0.9</td>\n",
       "      <td>2.7</td>\n",
       "      <td>D</td>\n",
       "      <td>T</td>\n",
       "      <td>862.0</td>\n",
       "      <td>Almost</td>\n",
       "      <td>NO</td>\n",
       "      <td>D</td>\n",
       "    </tr>\n",
       "    <tr>\n",
       "      <th>3</th>\n",
       "      <td>6.2</td>\n",
       "      <td>8.8</td>\n",
       "      <td>2.7</td>\n",
       "      <td>D</td>\n",
       "      <td>T</td>\n",
       "      <td>147.2</td>\n",
       "      <td>Almost</td>\n",
       "      <td>YES</td>\n",
       "      <td>D</td>\n",
       "    </tr>\n",
       "    <tr>\n",
       "      <th>4</th>\n",
       "      <td>5.0</td>\n",
       "      <td>3.1</td>\n",
       "      <td>0.2</td>\n",
       "      <td>D</td>\n",
       "      <td>Q</td>\n",
       "      <td>653.4</td>\n",
       "      <td>Pretty</td>\n",
       "      <td>NO</td>\n",
       "      <td>A</td>\n",
       "    </tr>\n",
       "  </tbody>\n",
       "</table>\n",
       "</div>"
      ],
      "text/plain": [
       "   TimeToPlay  TimeToStudy  ProfessionalScore InterviewScore Sexuality  \\\n",
       "0         0.1          4.4                2.5              F         T   \n",
       "1         4.1          5.7                3.7              D         L   \n",
       "2         7.3          0.9                2.7              D         T   \n",
       "3         6.2          8.8                2.7              D         T   \n",
       "4         5.0          3.1                0.2              D         Q   \n",
       "\n",
       "   ExpectedSalary SocialNetworkingTimeUse Result Score_Bin  \n",
       "0           249.6                    Much     NO         D  \n",
       "1           114.6                  Pretty    YES         E  \n",
       "2           862.0                  Almost     NO         D  \n",
       "3           147.2                  Almost    YES         D  \n",
       "4           653.4                  Pretty     NO         A  "
      ]
     },
     "execution_count": 20,
     "metadata": {},
     "output_type": "execute_result"
    }
   ],
   "source": [
    "df['Score_Bin'] = pd.qcut(df['ProfessionalScore'], q=[0, 0.2, 0.5, 0.6, 0.8, 1], labels=['A', 'B', 'C', 'D', 'E'])\n",
    "\n",
    "score_to_check = 2.7\n",
    "result = df[df['ProfessionalScore'] == score_to_check]['Score_Bin']\n",
    "\n",
    "print(f\"Giá trị ProfessionalScore = {score_to_check} thuộc khoảng: {result.values[0]}\")\n",
    "\n",
    "df.head()"
   ]
  },
  {
   "cell_type": "markdown",
   "metadata": {},
   "source": [
    "9"
   ]
  },
  {
   "cell_type": "code",
   "execution_count": 21,
   "metadata": {},
   "outputs": [
    {
     "name": "stdout",
     "output_type": "stream",
     "text": [
      "Bảng Crosstab:\n",
      "InterviewScore   A   B    C    D   F\n",
      "Sexuality                           \n",
      "B                5  24   30   42  32\n",
      "G                8  19   40   46  34\n",
      "L                9  37   64   54  38\n",
      "Q               16  65  126  122  84\n",
      "T                6  15   31   32  21\n",
      "Giá trị nhỏ nhất trong bảng crosstab là 5, thuộc nhóm: ('B', 'A')\n"
     ]
    }
   ],
   "source": [
    "crosstab_table = pd.crosstab(df['Sexuality'], df['InterviewScore'])\n",
    "\n",
    "print(\"Bảng Crosstab:\")\n",
    "print(crosstab_table)\n",
    "\n",
    "min_value = crosstab_table.min().min()\n",
    "\n",
    "min_group = crosstab_table.stack().idxmin()\n",
    "\n",
    "print(f\"Giá trị nhỏ nhất trong bảng crosstab là {min_value}, thuộc nhóm: {min_group}\")"
   ]
  },
  {
   "cell_type": "markdown",
   "metadata": {},
   "source": [
    "10"
   ]
  },
  {
   "cell_type": "code",
   "execution_count": 23,
   "metadata": {},
   "outputs": [
    {
     "name": "stdout",
     "output_type": "stream",
     "text": [
      "Điểm phỏng vấn phổ biến nhất là: D\n"
     ]
    }
   ],
   "source": [
    "most_common_interview_score = df['InterviewScore'].mode()[0]\n",
    "\n",
    "print(f\"Điểm phỏng vấn phổ biến nhất là: {most_common_interview_score}\")"
   ]
  },
  {
   "cell_type": "markdown",
   "metadata": {},
   "source": [
    "11"
   ]
  },
  {
   "cell_type": "code",
   "execution_count": 25,
   "metadata": {},
   "outputs": [
    {
     "name": "stdout",
     "output_type": "stream",
     "text": [
      "                            OLS Regression Results                            \n",
      "==============================================================================\n",
      "Dep. Variable:      ProfessionalScore   R-squared:                       0.003\n",
      "Model:                            OLS   Adj. R-squared:                  0.001\n",
      "Method:                 Least Squares   F-statistic:                     1.253\n",
      "Date:                Wed, 09 Oct 2024   Prob (F-statistic):              0.286\n",
      "Time:                        18:45:04   Log-Likelihood:                -1550.3\n",
      "No. Observations:                1000   AIC:                             3107.\n",
      "Df Residuals:                     997   BIC:                             3121.\n",
      "Df Model:                           2                                         \n",
      "Covariance Type:            nonrobust                                         \n",
      "===============================================================================\n",
      "                  coef    std err          t      P>|t|      [0.025      0.975]\n",
      "-------------------------------------------------------------------------------\n",
      "const           1.8134      0.096     18.860      0.000       1.625       2.002\n",
      "TimeToPlay      0.0187      0.013      1.490      0.137      -0.006       0.043\n",
      "TimeToStudy     0.0062      0.013      0.488      0.626      -0.019       0.031\n",
      "==============================================================================\n",
      "Omnibus:                      473.605   Durbin-Watson:                   1.917\n",
      "Prob(Omnibus):                  0.000   Jarque-Bera (JB):               54.357\n",
      "Skew:                           0.044   Prob(JB):                     1.57e-12\n",
      "Kurtosis:                       1.861   Cond. No.                         20.9\n",
      "==============================================================================\n",
      "\n",
      "Notes:\n",
      "[1] Standard Errors assume that the covariance matrix of the errors is correctly specified.\n",
      "Thời gian dành cho việc riêng (TimeToPlay) có mức độ tác động lớn hơn đến điểm đánh giá năng lực.\n"
     ]
    }
   ],
   "source": [
    "X = df[['TimeToPlay', 'TimeToStudy']]\n",
    "y = df['ProfessionalScore']\n",
    "\n",
    "X_with_constant = sm.add_constant(X)\n",
    "\n",
    "model = sm.OLS(y, X_with_constant).fit()\n",
    "\n",
    "print(model.summary())\n",
    "\n",
    "coefficients = model.params\n",
    "time_to_play_coef = coefficients['TimeToPlay']\n",
    "time_to_study_coef = coefficients['TimeToStudy']\n",
    "\n",
    "if abs(time_to_play_coef) > abs(time_to_study_coef):\n",
    "    print(f\"Thời gian dành cho việc riêng (TimeToPlay) có mức độ tác động lớn hơn đến điểm đánh giá năng lực.\")\n",
    "else:\n",
    "    print(f\"Thời gian dành cho việc học (TimeToStudy) có mức độ tác động lớn hơn đến điểm đánh giá năng lực.\")"
   ]
  },
  {
   "cell_type": "markdown",
   "metadata": {},
   "source": [
    "12"
   ]
  },
  {
   "cell_type": "code",
   "execution_count": 26,
   "metadata": {},
   "outputs": [
    {
     "name": "stdout",
     "output_type": "stream",
     "text": [
      "Số lượng phần tử thuộc nhóm nhãn 'Good': 203\n"
     ]
    }
   ],
   "source": [
    "bins = [0, 5, 7, 9, np.inf]\n",
    "labels = ['Bad', 'Pretty', 'Good', 'Excellent']\n",
    "\n",
    "df['Study_Category'] = pd.cut(df['TimeToStudy'], bins=bins, labels=labels)\n",
    "\n",
    "count_good = df[df['Study_Category'] == 'Good'].shape[0]\n",
    "\n",
    "print(f\"Số lượng phần tử thuộc nhóm nhãn 'Good': {count_good}\")"
   ]
  },
  {
   "cell_type": "markdown",
   "metadata": {},
   "source": [
    "13"
   ]
  },
  {
   "cell_type": "code",
   "execution_count": 27,
   "metadata": {},
   "outputs": [
    {
     "data": {
      "image/png": "[encoded data removed]",
      "text/plain": [
       "<Figure size 600x600 with 1 Axes>"
      ]
     },
     "metadata": {},
     "output_type": "display_data"
    },
    {
     "name": "stdout",
     "output_type": "stream",
     "text": [
      "Tỉ lệ phần trăm các nhóm giới tính:\n",
      "Sexuality\n",
      "Q    41.3\n",
      "L    20.2\n",
      "G    14.7\n",
      "B    13.3\n",
      "T    10.5\n",
      "Name: proportion, dtype: float64\n"
     ]
    }
   ],
   "source": [
    "sexuality_counts = df['Sexuality'].value_counts(normalize=True) * 100\n",
    "\n",
    "plt.figure(figsize=(6,6))\n",
    "plt.pie(sexuality_counts, labels=sexuality_counts.index, autopct='%1.1f%%', startangle=90)\n",
    "plt.title('Tỉ lệ phần trăm các nhóm giới tính (Sexuality)')\n",
    "plt.axis('equal')  # Đảm bảo biểu đồ hình tròn\n",
    "plt.show()\n",
    "\n",
    "print(\"Tỉ lệ phần trăm các nhóm giới tính:\")\n",
    "print(sexuality_counts)"
   ]
  },
  {
   "cell_type": "markdown",
   "metadata": {},
   "source": [
    "14"
   ]
  },
  {
   "cell_type": "code",
   "execution_count": null,
   "metadata": {},
   "outputs": [],
   "source": []
  },
  {
   "cell_type": "markdown",
   "metadata": {},
   "source": [
    "15"
   ]
  },
  {
   "cell_type": "code",
   "execution_count": 28,
   "metadata": {},
   "outputs": [
    {
     "data": {
      "image/png": "[encoded data removed]",
      "text/plain": [
       "<Figure size 800x600 with 1 Axes>"
      ]
     },
     "metadata": {},
     "output_type": "display_data"
    },
    {
     "name": "stdout",
     "output_type": "stream",
     "text": [
      "Giới hạn dưới: -1.8499999999999996\n",
      "Giới hạn trên: 5.75\n",
      "Giá trị bất thường (outliers):\n",
      "Empty DataFrame\n",
      "Columns: [TimeToPlay, TimeToStudy, ProfessionalScore, InterviewScore, Sexuality, ExpectedSalary, SocialNetworkingTimeUse, Result, Score_Bin, Study_Category]\n",
      "Index: []\n"
     ]
    }
   ],
   "source": [
    "plt.figure(figsize=(8, 6))\n",
    "sns.boxplot(y=df['ProfessionalScore'])\n",
    "plt.title('Box-plot cho ProfessionalScore')\n",
    "plt.ylabel('ProfessionalScore')\n",
    "plt.show()\n",
    "\n",
    "Q1 = df['ProfessionalScore'].quantile(0.25)\n",
    "Q3 = df['ProfessionalScore'].quantile(0.75)\n",
    "IQR = Q3 - Q1\n",
    "\n",
    "lower_bound = Q1 - 1.5 * IQR\n",
    "upper_bound = Q3 + 1.5 * IQR\n",
    "\n",
    "outliers = df[(df['ProfessionalScore'] < lower_bound) | (df['ProfessionalScore'] > upper_bound)]\n",
    "\n",
    "print(f\"Giới hạn dưới: {lower_bound}\")\n",
    "print(f\"Giới hạn trên: {upper_bound}\")\n",
    "print(f\"Giá trị bất thường (outliers):\\n{outliers}\")"
   ]
  },
  {
   "cell_type": "markdown",
   "metadata": {},
   "source": [
    "16"
   ]
  },
  {
   "cell_type": "code",
   "execution_count": 29,
   "metadata": {},
   "outputs": [
    {
     "name": "stdout",
     "output_type": "stream",
     "text": [
      "Q1 (25% phân vị): 1.0\n",
      "Q3 (75% phân vị): 2.9\n",
      "IQR (Khoảng tứ phân vị): 1.9\n",
      "Giới hạn dưới cho dữ liệu bất thường: -1.8499999999999996\n",
      "Giới hạn trên cho dữ liệu bất thường: 5.75\n"
     ]
    }
   ],
   "source": [
    "Q1 = df['ProfessionalScore'].quantile(0.25)\n",
    "Q3 = df['ProfessionalScore'].quantile(0.75)\n",
    "IQR = Q3 - Q1\n",
    "\n",
    "lower_bound = Q1 - 1.5 * IQR\n",
    "upper_bound = Q3 + 1.5 * IQR\n",
    "\n",
    "print(f\"Q1 (25% phân vị): {Q1}\")\n",
    "print(f\"Q3 (75% phân vị): {Q3}\")\n",
    "print(f\"IQR (Khoảng tứ phân vị): {IQR}\")\n",
    "print(f\"Giới hạn dưới cho dữ liệu bất thường: {lower_bound}\")\n",
    "print(f\"Giới hạn trên cho dữ liệu bất thường: {upper_bound}\")"
   ]
  },
  {
   "cell_type": "markdown",
   "metadata": {},
   "source": [
    "17"
   ]
  },
  {
   "cell_type": "code",
   "execution_count": 30,
   "metadata": {},
   "outputs": [
    {
     "name": "stdout",
     "output_type": "stream",
     "text": [
      "Độ lớn của mỗi bin là: 0.5\n"
     ]
    }
   ],
   "source": [
    "\n",
    "min_value = df['TimeToStudy'].min()\n",
    "max_value = df['TimeToStudy'].max()\n",
    "\n",
    "number_of_bins = 20\n",
    "bin_width = (max_value - min_value) / number_of_bins\n",
    "\n",
    "print(f\"Độ lớn của mỗi bin là: {bin_width}\")"
   ]
  },
  {
   "cell_type": "code",
   "execution_count": 31,
   "metadata": {},
   "outputs": [
    {
     "data": {
      "text/plain": [
       "<Axes: >"
      ]
     },
     "execution_count": 31,
     "metadata": {},
     "output_type": "execute_result"
    },
    {
     "data": {
      "image/png": "[encoded data removed]",
      "text/plain": [
       "<Figure size 640x480 with 1 Axes>"
      ]
     },
     "metadata": {},
     "output_type": "display_data"
    }
   ],
   "source": [
    "df['TimeToStudy'].hist(bins=20)"
   ]
  },
  {
   "cell_type": "markdown",
   "metadata": {},
   "source": [
    "18"
   ]
  },
  {
   "cell_type": "code",
   "execution_count": 37,
   "metadata": {},
   "outputs": [
    {
     "name": "stdout",
     "output_type": "stream",
     "text": [
      "Trung bình điểm đánh giá năng lực của tất cả sinh viên: 1.9397\n",
      "\n",
      "Những nhóm xu hướng tính dục có điểm đánh giá năng lực lớn hơn trung bình:\n",
      "Sexuality\n",
      "B    2.025564\n",
      "Q    1.960533\n",
      "Name: ProfessionalScore, dtype: float64\n",
      "1.9397\n"
     ]
    },
    {
     "data": {
      "text/plain": [
       "Sexuality\n",
       "B    2.025564\n",
       "G    1.903401\n",
       "L    1.919307\n",
       "Q    1.960533\n",
       "T    1.839048\n",
       "Name: ProfessionalScore, dtype: float64"
      ]
     },
     "execution_count": 37,
     "metadata": {},
     "output_type": "execute_result"
    }
   ],
   "source": [
    "overall_mean = df['ProfessionalScore'].mean()\n",
    "\n",
    "mean_by_sexuality = df.groupby('Sexuality')['ProfessionalScore'].mean()\n",
    "\n",
    "higher_than_mean = mean_by_sexuality[mean_by_sexuality > overall_mean]\n",
    "\n",
    "print(f\"Trung bình điểm đánh giá năng lực của tất cả sinh viên: {overall_mean}\")\n",
    "print(\"\\nNhững nhóm xu hướng tính dục có điểm đánh giá năng lực lớn hơn trung bình:\")\n",
    "print(higher_than_mean)\n",
    "\n",
    "print(overall_mean)\n",
    "mean_by_sexuality"
   ]
  },
  {
   "cell_type": "markdown",
   "metadata": {},
   "source": [
    "19"
   ]
  },
  {
   "cell_type": "code",
   "execution_count": 41,
   "metadata": {},
   "outputs": [
    {
     "data": {
      "text/plain": [
       "(1000, 10)"
      ]
     },
     "execution_count": 41,
     "metadata": {},
     "output_type": "execute_result"
    }
   ],
   "source": [
    "df.shape"
   ]
  },
  {
   "cell_type": "markdown",
   "metadata": {},
   "source": [
    "20"
   ]
  },
  {
   "cell_type": "code",
   "execution_count": 42,
   "metadata": {},
   "outputs": [
    {
     "name": "stdout",
     "output_type": "stream",
     "text": [
      "t-statistic: -14.333435926932262\n",
      "p-value: 1.634730670328841e-42\n",
      "Có đủ dữ kiện để bác bỏ giả thuyết H0. Trung bình không bằng 2.4575.\n"
     ]
    }
   ],
   "source": [
    "hypothesized_mean = 2.4575\n",
    "\n",
    "t_stat, p_value = stats.ttest_1samp(df['ProfessionalScore'], popmean=hypothesized_mean)\n",
    "\n",
    "print(f\"t-statistic: {t_stat}\")\n",
    "print(f\"p-value: {p_value}\")\n",
    "\n",
    "alpha = 0.05\n",
    "if p_value < alpha:\n",
    "    print(\"Có đủ dữ kiện để bác bỏ giả thuyết H0. Trung bình không bằng 2.4575.\")\n",
    "else:\n",
    "    print(\"Không đủ dữ kiện để bác bỏ giả thuyết H0. Trung bình có thể bằng 2.4575.\")"
   ]
  },
  {
   "cell_type": "code",
   "execution_count": 43,
   "metadata": {},
   "outputs": [
    {
     "data": {
      "text/plain": [
       "<bound method Series.count of 0      2.5\n",
       "1      3.7\n",
       "2      2.7\n",
       "3      2.7\n",
       "4      0.2\n",
       "      ... \n",
       "995    1.2\n",
       "996    2.8\n",
       "997    1.3\n",
       "998    3.3\n",
       "999    0.3\n",
       "Name: ProfessionalScore, Length: 1000, dtype: float64>"
      ]
     },
     "execution_count": 43,
     "metadata": {},
     "output_type": "execute_result"
    }
   ],
   "source": [
    "df['ProfessionalScore'].count"
   ]
  },
  {
   "cell_type": "markdown",
   "metadata": {},
   "source": [
    "21"
   ]
  },
  {
   "cell_type": "code",
   "execution_count": null,
   "metadata": {},
   "outputs": [],
   "source": []
  },
  {
   "cell_type": "markdown",
   "metadata": {},
   "source": [
    "22"
   ]
  },
  {
   "cell_type": "code",
   "execution_count": null,
   "metadata": {},
   "outputs": [],
   "source": []
  },
  {
   "cell_type": "markdown",
   "metadata": {},
   "source": [
    "23"
   ]
  },
  {
   "cell_type": "code",
   "execution_count": null,
   "metadata": {},
   "outputs": [],
   "source": []
  },
  {
   "cell_type": "markdown",
   "metadata": {},
   "source": [
    "24"
   ]
  },
  {
   "cell_type": "code",
   "execution_count": null,
   "metadata": {},
   "outputs": [],
   "source": []
  },
  {
   "cell_type": "markdown",
   "metadata": {},
   "source": [
    "25"
   ]
  },
  {
   "cell_type": "code",
   "execution_count": null,
   "metadata": {},
   "outputs": [],
   "source": []
  }
 ],
 "metadata": {
  "kernelspec": {
   "display_name": "Python 3",
   "language": "python",
   "name": "python3"
  },
  "language_info": {
   "codemirror_mode": {
    "name": "ipython",
    "version": 3
   },
   "file_extension": ".py",
   "mimetype": "text/x-python",
   "name": "python",
   "nbconvert_exporter": "python",
   "pygments_lexer": "ipython3",
   "version": "3.12.4"
  }
 },
 "nbformat": 4,
 "nbformat_minor": 2
}
